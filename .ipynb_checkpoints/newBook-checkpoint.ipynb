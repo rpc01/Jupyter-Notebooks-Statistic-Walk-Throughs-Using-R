{
 "cells": [
  {
   "cell_type": "code",
   "execution_count": 7,
   "id": "df93a22f",
   "metadata": {},
   "outputs": [],
   "source": [
    "\n",
    "a=2"
   ]
  },
  {
   "cell_type": "markdown",
   "id": "b65c4c2e",
   "metadata": {},
   "source": [
    "This is a Markdown cell\n",
    "#The point is that you can mix code and text easily.\n"
   ]
  },
  {
   "cell_type": "code",
   "execution_count": 8,
   "id": "e11d15d5",
   "metadata": {},
   "outputs": [
    {
     "data": {
      "text/plain": [
       "4"
      ]
     },
     "execution_count": 8,
     "metadata": {},
     "output_type": "execute_result"
    }
   ],
   "source": [
    "2+2"
   ]
  },
  {
   "cell_type": "markdown",
   "id": "99053b08",
   "metadata": {},
   "source": [
    "a+2"
   ]
  }
 ],
 "metadata": {
  "kernelspec": {
   "display_name": "Python 3 (ipykernel)",
   "language": "python",
   "name": "python3"
  },
  "language_info": {
   "codemirror_mode": {
    "name": "ipython",
    "version": 3
   },
   "file_extension": ".py",
   "mimetype": "text/x-python",
   "name": "python",
   "nbconvert_exporter": "python",
   "pygments_lexer": "ipython3",
   "version": "3.9.7"
  }
 },
 "nbformat": 4,
 "nbformat_minor": 5
}
